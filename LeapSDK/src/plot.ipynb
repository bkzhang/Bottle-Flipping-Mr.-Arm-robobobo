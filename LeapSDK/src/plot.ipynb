{
 "cells": [
  {
   "cell_type": "code",
   "execution_count": 74,
   "metadata": {
    "collapsed": false
   },
   "outputs": [],
   "source": [
    "import matplotlib\n",
    "import matplotlib.pyplot as plt\n",
    "import csv\n",
    "import pylab\n",
    "\n",
    "def get(filename, col):\n",
    "    results = csv.reader(open(filename), delimiter=\",\")\n",
    "    return [result[col] for result in results]\n",
    "\n",
    "\n",
    "values = [(get(\"data.csv\", 0))]\n",
    "\n",
    "x1 = get(\"data.csv\", 0)\n",
    "x2 = get(\"data.csv\", 1)\n",
    "x3 = get(\"data.csv\", 2)\n",
    "y1 = get(\"data.csv\", 3)\n",
    "y2 = get(\"data.csv\", 4)\n",
    "y3 = get(\"data.csv\", 5)\n",
    "\n",
    "#xy = [(x, y) for x in x1 for y in y1]\n",
    "\n",
    "    \n",
    "plt.figure(\"x/y\")\n",
    "plt.xlabel(\"x\")\n",
    "plt.ylabel(\"y\")\n",
    "plt.scatter(x1, y1)\n",
    "\n",
    "plt.scatter(x2, y2)\n",
    "\n",
    "plt.scatter(x3, y3)\n",
    "plt.show()\n"
   ]
  }
 ],
 "metadata": {
  "kernelspec": {
   "display_name": "Python 2",
   "language": "python",
   "name": "python2"
  },
  "language_info": {
   "codemirror_mode": {
    "name": "ipython",
    "version": 2
   },
   "file_extension": ".py",
   "mimetype": "text/x-python",
   "name": "python",
   "nbconvert_exporter": "python",
   "pygments_lexer": "ipython2",
   "version": "2.7.6"
  }
 },
 "nbformat": 4,
 "nbformat_minor": 2
}
